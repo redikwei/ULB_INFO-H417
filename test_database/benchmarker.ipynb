{
 "cells": [
  {
   "cell_type": "code",
   "execution_count": null,
   "metadata": {},
   "outputs": [],
   "source": [
    "import psycopg2\n",
    "from time import process_time"
   ]
  },
  {
   "cell_type": "code",
   "execution_count": null,
   "metadata": {},
   "outputs": [],
   "source": [
    "# To connect to a Postgres DB\n",
    "\n",
    "conn = psycopg2.connect(\n",
    "    host=\"your_host\",\n",
    "    port=\"your_port\",\n",
    "    database=\"your_database\",\n",
    "    user=\"your_username\",\n",
    "    password=\"your_password\"\n",
    ")\n",
    "\n",
    "cursor = conn.cursor()\n",
    "\n",
    "# List to store execution times\n",
    "times = []"
   ]
  },
  {
   "cell_type": "code",
   "execution_count": null,
   "metadata": {},
   "outputs": [],
   "source": [
    "# Read the SQL file\n",
    "with open('C:\\\\Users\\\\valer\\\\Desktop\\\\DBSA\\\\project\\\\chess-postgres-extension\\\\test_database\\\\queries.sql', 'r') as file:\n",
    "    sql_content = file.read()\n",
    "\n",
    "# Split the SQL content into separate queries\n",
    "sql_queries = sql_content.split(';')\n",
    "\n",
    "# Remove empty strings or whitespace-only queries\n",
    "sql_queries = [query.strip() for query in sql_queries if query.strip()]"
   ]
  },
  {
   "cell_type": "code",
   "execution_count": null,
   "metadata": {},
   "outputs": [],
   "source": [
    "for query in sql_queries:\n",
    "    start = process_time()\n",
    "    cursor.execute(query)\n",
    "    end = process_time\n",
    "    times.append(end-start)"
   ]
  },
  {
   "cell_type": "code",
   "execution_count": null,
   "metadata": {},
   "outputs": [],
   "source": [
    "# times formatting: [q1 on 100, q1 on 20, q1 on 5, q1 on 1, q2 on 100, ...]"
   ]
  }
 ],
 "metadata": {
  "kernelspec": {
   "display_name": "Python 3",
   "language": "python",
   "name": "python3"
  },
  "language_info": {
   "codemirror_mode": {
    "name": "ipython",
    "version": 3
   },
   "file_extension": ".py",
   "mimetype": "text/x-python",
   "name": "python",
   "nbconvert_exporter": "python",
   "pygments_lexer": "ipython3",
   "version": "3.11.3"
  }
 },
 "nbformat": 4,
 "nbformat_minor": 2
}
